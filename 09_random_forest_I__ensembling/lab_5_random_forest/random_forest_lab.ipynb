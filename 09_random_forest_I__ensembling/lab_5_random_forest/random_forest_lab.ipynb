{
 "cells": [
  {
   "cell_type": "markdown",
   "metadata": {
    "deletable": false,
    "editable": false,
    "nbgrader": {
     "checksum": "9556c8bfeba29542da9ab672b38820f6",
     "grade": false,
     "grade_id": "cell-588eb434a3567ee2",
     "locked": true,
     "schema_version": 1,
     "solution": false
    }
   },
   "source": [
    "Lab: Random Forest™\n",
    "===="
   ]
  },
  {
   "cell_type": "markdown",
   "metadata": {
    "deletable": false,
    "editable": false,
    "nbgrader": {
     "checksum": "ab502c8ef016677ea7355c2c09ccfa07",
     "grade": false,
     "grade_id": "cell-5cc85b93d38670f4",
     "locked": true,
     "schema_version": 1,
     "solution": false
    }
   },
   "source": [
    "By The End Of This Lab You Should Be Able To:\n",
    "----\n",
    "\n",
    "- Fit Random Forest™ to variety of datasets\n",
    "- Download data from the web\n",
    "- Munge categorical data into a format amendable to Machine Learning\n",
    "\n",
    "\n",
    "Parts\n",
    "------\n",
    "\n",
    "\n",
    "1. Toy dataset - Moons 🌛\n",
    "1. Built-in dataset - Wine 🍷\n",
    "1. \"Wild\" dataset - Mushroom 🍄"
   ]
  },
  {
   "cell_type": "markdown",
   "metadata": {
    "deletable": false,
    "editable": false,
    "nbgrader": {
     "checksum": "bfca63ec04eab0a67c2466912cc5a666",
     "grade": false,
     "grade_id": "cell-097e33c5a845c288",
     "locked": true,
     "schema_version": 1,
     "solution": false
    }
   },
   "source": [
    "Part 1a: Fit Random Forest™ to Moon dataset\n",
    "------"
   ]
  },
  {
   "cell_type": "code",
   "execution_count": null,
   "metadata": {
    "deletable": false,
    "editable": false,
    "nbgrader": {
     "checksum": "89568de670d8936b162de23fc95062ad",
     "grade": false,
     "grade_id": "cell-b3989d3eb2c9086b",
     "locked": true,
     "schema_version": 1,
     "solution": false
    }
   },
   "outputs": [],
   "source": [
    "reset -fs"
   ]
  },
  {
   "cell_type": "code",
   "execution_count": null,
   "metadata": {
    "deletable": false,
    "editable": false,
    "nbgrader": {
     "checksum": "281cbb91afc16eb05a052f3b92c9acd7",
     "grade": false,
     "grade_id": "cell-e98307ceebf48695",
     "locked": true,
     "schema_version": 1,
     "solution": false
    }
   },
   "outputs": [],
   "source": [
    "import matplotlib.pyplot as plt\n",
    "import numpy as np\n",
    "import pandas as pd\n",
    "import seaborn as sns\n",
    "import sklearn\n",
    "\n",
    "import warnings\n",
    "warnings.filterwarnings('ignore')\n",
    "\n",
    "palette = \"Dark2\"\n",
    "%matplotlib inline"
   ]
  },
  {
   "cell_type": "code",
   "execution_count": null,
   "metadata": {
    "deletable": false,
    "editable": false,
    "nbgrader": {
     "checksum": "0c21d0c0eb9fa1513c7530da3cee5579",
     "grade": false,
     "grade_id": "cell-9a749e5acd1298e2",
     "locked": true,
     "schema_version": 1,
     "solution": false
    }
   },
   "outputs": [],
   "source": [
    "from sklearn.datasets import make_moons"
   ]
  },
  {
   "cell_type": "code",
   "execution_count": null,
   "metadata": {
    "deletable": false,
    "editable": false,
    "nbgrader": {
     "checksum": "a0a55133c33aaa8377c4eeca2bff36bd",
     "grade": false,
     "grade_id": "cell-1ec002f4a6f0b173",
     "locked": true,
     "schema_version": 1,
     "solution": false
    }
   },
   "outputs": [],
   "source": [
    "noisy_moons = make_moons(n_samples=10_000, noise=.25, random_state=42)\n",
    "\n",
    "sns.scatterplot(x=noisy_moons[0][:, 0],\n",
    "                y=noisy_moons[0][:, 1],\n",
    "                hue=noisy_moons[1],\n",
    "                palette=palette);"
   ]
  },
  {
   "cell_type": "code",
   "execution_count": null,
   "metadata": {
    "deletable": false,
    "editable": false,
    "nbgrader": {
     "checksum": "249cd0016650cc2c367ac7bae85982cd",
     "grade": false,
     "grade_id": "cell-cea69eb469ee7101",
     "locked": true,
     "schema_version": 1,
     "solution": false
    }
   },
   "outputs": [],
   "source": [
    "from sklearn.model_selection import train_test_split\n",
    "\n",
    "# Load and split the data\n",
    "X_train, X_test, y_train, y_test = train_test_split(noisy_moons[0], noisy_moons[1], test_size=0.3, random_state=42)"
   ]
  },
  {
   "cell_type": "code",
   "execution_count": null,
   "metadata": {
    "deletable": false,
    "editable": false,
    "nbgrader": {
     "checksum": "1435cac72bd1401ee9d4677599946f17",
     "grade": false,
     "grade_id": "cell-d4ccf3b83059a284",
     "locked": true,
     "schema_version": 1,
     "solution": false
    }
   },
   "outputs": [],
   "source": [
    "from sklearn.ensemble import RandomForestClassifier"
   ]
  },
  {
   "cell_type": "code",
   "execution_count": null,
   "metadata": {
    "deletable": false,
    "nbgrader": {
     "checksum": "600b797bf95dee33caab1bf942d7628e",
     "grade": false,
     "grade_id": "cell-664ed1ccd2613e44",
     "locked": false,
     "schema_version": 1,
     "solution": true
    }
   },
   "outputs": [],
   "source": [
    "\"\"\"\n",
    "Fit a RandomForestClassifier to this data. Find accuracy on test data.\n",
    "\n",
    "NOTE: Just write code in this cell. Do not create a function.\n",
    "\"\"\"\n",
    "\n",
    "# YOUR CODE HERE\n",
    "raise NotImplementedError()\n",
    "\n",
    "print(f\"{rf_moon_acc:.4f}\")"
   ]
  },
  {
   "cell_type": "code",
   "execution_count": null,
   "metadata": {
    "deletable": false,
    "editable": false,
    "nbgrader": {
     "checksum": "1dbf48f5bc81e73b324799bcf75c51dd",
     "grade": true,
     "grade_id": "cell-48aeec842a9d1000",
     "locked": true,
     "points": 2,
     "schema_version": 1,
     "solution": false
    }
   },
   "outputs": [],
   "source": [
    "\"\"\"\n",
    "2 points\n",
    "Test code for the cell above.\n",
    "This cell should NOT give any errors when it is run.\n",
    "\"\"\"\n",
    "from math import isclose\n",
    "\n",
    "assert rf_moon.__class__.__name__.split('.')[-1] == 'RandomForestClassifier'\n",
    "assert isclose(rf_moon_acc, 0.9336666666666666)"
   ]
  },
  {
   "cell_type": "markdown",
   "metadata": {
    "deletable": false,
    "editable": false,
    "nbgrader": {
     "checksum": "4c8b6e57129bc634bb10004825fa4546",
     "grade": false,
     "grade_id": "cell-4075bc582b18c8e1",
     "locked": true,
     "schema_version": 1,
     "solution": false
    }
   },
   "source": [
    "Part 1b: Grid Search Random Forest™ to Moon dataset\n",
    "------\n",
    "\n",
    "Hint: Is there a Random Forest™ hyperparameter that could spend up training?"
   ]
  },
  {
   "cell_type": "code",
   "execution_count": null,
   "metadata": {
    "deletable": false,
    "nbgrader": {
     "checksum": "7f4602bcb87f149353d76c726c3ada5f",
     "grade": false,
     "grade_id": "cell-5f0e8fa34dea08af",
     "locked": false,
     "schema_version": 1,
     "solution": true
    }
   },
   "outputs": [],
   "source": [
    "\"\"\"\n",
    "Write code to conduct Grid Search on RandomForestClassifier to find best number of trees and best criterion.\n",
    "\n",
    "NOTE: Just write code in this cell. Do not create a function.\n",
    "\"\"\"\n",
    "\n",
    "# YOUR CODE HERE\n",
    "raise NotImplementedError()\n",
    "\n",
    "print(f\"{gs_rf_acc:.4f}\")"
   ]
  },
  {
   "cell_type": "code",
   "execution_count": null,
   "metadata": {
    "deletable": false,
    "editable": false,
    "nbgrader": {
     "checksum": "54ad9f1dad4fc2e1e1eecbd2d8e36000",
     "grade": true,
     "grade_id": "cell-9b73c1a1f260d93a",
     "locked": true,
     "points": 4,
     "schema_version": 1,
     "solution": false
    }
   },
   "outputs": [],
   "source": [
    "\"\"\"\n",
    "4 points\n",
    "Test code for the cell above.\n",
    "There are hidden tests. They will make sure best_params_ have the optimal values.\n",
    "This cell should NOT give any errors when it is run.\n",
    "\"\"\"\n",
    "from math import isclose\n",
    "\n",
    "best_params = gs.best_params_\n",
    "assert set(best_params.keys()) == {'criterion', 'n_estimators'}\n",
    "assert isclose(gs_rf_acc, 0.9353333333333333)\n"
   ]
  },
  {
   "cell_type": "markdown",
   "metadata": {
    "deletable": false,
    "editable": false,
    "nbgrader": {
     "checksum": "7d99432028a8fcbe6835c41dd6dda02f",
     "grade": false,
     "grade_id": "cell-801b8cf0fe8a3472",
     "locked": true,
     "schema_version": 1,
     "solution": false
    }
   },
   "source": [
    "Part 2: Fit Random Forest™ to Wine dataset\n",
    "------"
   ]
  },
  {
   "cell_type": "code",
   "execution_count": null,
   "metadata": {
    "deletable": false,
    "editable": false,
    "nbgrader": {
     "checksum": "064366ca8f9fd002860ee501802cfe6b",
     "grade": false,
     "grade_id": "cell-6a6d56ce27ce5fc1",
     "locked": true,
     "schema_version": 1,
     "solution": false
    }
   },
   "outputs": [],
   "source": [
    "from sklearn.datasets import load_wine\n",
    "from sklearn.model_selection import train_test_split\n",
    "\n",
    "data = load_wine()\n",
    "X_train, X_test, y_train, y_test = train_test_split(data.data, data.target, test_size=0.3, random_state=42)"
   ]
  },
  {
   "cell_type": "code",
   "execution_count": null,
   "metadata": {
    "deletable": false,
    "nbgrader": {
     "checksum": "b124077fac01fb101c8818c890241121",
     "grade": false,
     "grade_id": "cell-5d4f709b1d3c8e9a",
     "locked": false,
     "schema_version": 1,
     "solution": true
    }
   },
   "outputs": [],
   "source": [
    "\"\"\"\n",
    "Fit a RandomForestClassifier to this data. Find accuracy on test data.\n",
    "\n",
    "NOTE: Just write code in this cell. Do not create a function.\n",
    "\"\"\"\n",
    "\n",
    "# YOUR CODE HERE\n",
    "raise NotImplementedError()\n",
    "print(f\"{rf_wine_acc:.4f}\")"
   ]
  },
  {
   "cell_type": "code",
   "execution_count": null,
   "metadata": {
    "deletable": false,
    "editable": false,
    "nbgrader": {
     "checksum": "3efd79d7fec5b56a0a02a1c3c982ca67",
     "grade": true,
     "grade_id": "cell-d5d99add6e5604de",
     "locked": true,
     "points": 2,
     "schema_version": 1,
     "solution": false
    }
   },
   "outputs": [],
   "source": [
    "\"\"\"\n",
    "2 points\n",
    "Test code for the cell above.\n",
    "This cell should NOT give any errors when it is run.\n",
    "\"\"\"\n",
    "from math import isclose\n",
    "\n",
    "assert rf_wine.__class__.__name__.split('.')[-1] == 'RandomForestClassifier'\n",
    "assert isclose(rf_wine_acc, 0.9259259259259259)"
   ]
  },
  {
   "cell_type": "code",
   "execution_count": null,
   "metadata": {
    "deletable": false,
    "nbgrader": {
     "checksum": "32b418359b070b37694c9bced9f5df8e",
     "grade": false,
     "grade_id": "cell-79085de7f6004f82",
     "locked": false,
     "schema_version": 1,
     "solution": true
    }
   },
   "outputs": [],
   "source": [
    "\"\"\"\n",
    "Create a sorted list of features by importance.\n",
    "\n",
    "NOTE: Just write code in this cell. Do not create a function.\n",
    "\"\"\"\n",
    "\n",
    "# YOUR CODE HERE\n",
    "raise NotImplementedError()"
   ]
  },
  {
   "cell_type": "code",
   "execution_count": null,
   "metadata": {
    "deletable": false,
    "editable": false,
    "nbgrader": {
     "checksum": "3b8dff8219204ae60a794929271da072",
     "grade": true,
     "grade_id": "cell-ae9151666236836a",
     "locked": true,
     "points": 5,
     "schema_version": 1,
     "solution": false
    }
   },
   "outputs": [],
   "source": [
    "\"\"\"\n",
    "5 points\n",
    "Test code for the cell above.\n",
    "There are hidden tests. They will make sure features_most_important_to_least are correctly ordered\n",
    "This cell should NOT give any errors when it is run.\n",
    "\"\"\"\n",
    "\n",
    "features_most_important_to_least[0] == 'flavanoids'\n",
    "features_most_important_to_least[-1] == 'nonflavanoid_phenols'\n"
   ]
  },
  {
   "cell_type": "markdown",
   "metadata": {
    "deletable": false,
    "editable": false,
    "nbgrader": {
     "checksum": "c6feb3c6399c1adc1784d8fd5715b518",
     "grade": false,
     "grade_id": "cell-54b44e5c051d5620",
     "locked": true,
     "schema_version": 1,
     "solution": false
    }
   },
   "source": [
    "Part 3: Fit Random Forest™ to Mushroom dataset\n",
    "------\n",
    "\n",
    "Descriptions of hypothetical samples mushrooms. Each species is identified as edible (e) or poisonous (p).\n",
    "\n",
    "Learn more:\n",
    "\n",
    "- https://archive.ics.uci.edu/ml/datasets/mushroom\n",
    "- https://www.kaggle.com/uciml/mushroom-classification/version/1"
   ]
  },
  {
   "cell_type": "code",
   "execution_count": null,
   "metadata": {
    "deletable": false,
    "editable": false,
    "nbgrader": {
     "checksum": "2ffcebc5815469050d1122fc0dddbe32",
     "grade": false,
     "grade_id": "cell-eca7e01939e2c7ea",
     "locked": true,
     "schema_version": 1,
     "solution": false
    }
   },
   "outputs": [],
   "source": [
    "import os\n",
    "\n",
    "from urllib.request import urlretrieve\n",
    "\n",
    "path_remote = \"https://archive.ics.uci.edu/ml/machine-learning-databases/mushroom/\"\n",
    "path_local = \".\"\n",
    "filename = \"agaricus-lepiota.data\""
   ]
  },
  {
   "cell_type": "code",
   "execution_count": null,
   "metadata": {
    "deletable": false,
    "nbgrader": {
     "checksum": "8512b304463c0d9eeca44731677aeb22",
     "grade": false,
     "grade_id": "cell-a3f25e54e48fc92b",
     "locked": false,
     "schema_version": 1,
     "solution": true
    }
   },
   "outputs": [],
   "source": [
    "def download_data(path_remote: str, path_local: str, filename: str) -> None:\n",
    "    \"\"\"Write code that retrieves the data from url.\n",
    "    Make sure to check if file is local, if not then retrieve it.\n",
    "    \"\"\"\n",
    "    # YOUR CODE HERE\n",
    "    raise NotImplementedError()"
   ]
  },
  {
   "cell_type": "code",
   "execution_count": null,
   "metadata": {
    "deletable": false,
    "editable": false,
    "nbgrader": {
     "checksum": "707a93ead93e397ea5bb62ead2ab77ff",
     "grade": true,
     "grade_id": "cell-9e7b459e9195818c",
     "locked": true,
     "points": 2,
     "schema_version": 1,
     "solution": false
    }
   },
   "outputs": [],
   "source": [
    "\"\"\"\n",
    "2 points\n",
    "Test code for the 'download_data' function. \n",
    "This cell should NOT give any errors when it is run.\n",
    "\"\"\"\n",
    "\n",
    "local_file = os.path.join(path_local, filename)\n",
    "if os.path.exists(local_file):\n",
    "    os.remove(local_file)\n",
    "    \n",
    "download_data(path_remote, path_local, filename)\n",
    "\n",
    "assert os.path.exists(local_file)"
   ]
  },
  {
   "cell_type": "code",
   "execution_count": null,
   "metadata": {
    "deletable": false,
    "nbgrader": {
     "checksum": "b4f6db6e56a4a2e12256dc08dfc048b7",
     "grade": false,
     "grade_id": "cell-4327521a88fb5854",
     "locked": false,
     "schema_version": 1,
     "solution": true
    }
   },
   "outputs": [],
   "source": [
    "\"\"\"\n",
    "Write code to do the following:\n",
    "1. Load data with Pandas\n",
    "2. Separate targets / labels\n",
    "3. Convert targets / labels to dummy encoding\n",
    "4. Convert every categorical feature with one hot encoding\n",
    "\n",
    "Hint: Remove unneeded columns from your dataframe as you go.\n",
    "\n",
    "NOTE: Just write code in this cell. Do not create a function.\n",
    "\"\"\"\n",
    "\n",
    "# YOUR CODE HERE\n",
    "raise NotImplementedError()"
   ]
  },
  {
   "cell_type": "code",
   "execution_count": null,
   "metadata": {
    "deletable": false,
    "editable": false,
    "nbgrader": {
     "checksum": "7ebd08999a95ad290cdd0402822b5f2f",
     "grade": true,
     "grade_id": "cell-11793b6c57d3b00c",
     "locked": true,
     "points": 10,
     "schema_version": 1,
     "solution": false
    }
   },
   "outputs": [],
   "source": [
    "\"\"\"\n",
    "10 points\n",
    "Test code for the cell above.\n",
    "This cell should NOT give any errors when it is run.\n",
    "\"\"\"\n",
    "\n",
    "assert type(labels) == pd.core.series.Series\n",
    "assert labels.shape == (8123,)\n",
    "assert labels[0] == 0\n",
    "assert labels[42] == 1\n",
    "assert labels[8122] == 0\n",
    "\n",
    "assert type(features) == pd.core.frame.DataFrame\n",
    "assert features.shape == (8123, 117)\n",
    "assert features.x_b.iloc[0] == 0\n",
    "assert features.u_l.iloc[8122] == 1"
   ]
  },
  {
   "cell_type": "code",
   "execution_count": null,
   "metadata": {
    "deletable": false,
    "editable": false,
    "nbgrader": {
     "checksum": "9378f21bdc23fcaabab6127605a9a00a",
     "grade": false,
     "grade_id": "cell-50707a688544b74a",
     "locked": true,
     "schema_version": 1,
     "solution": false
    }
   },
   "outputs": [],
   "source": [
    "X_train, X_test, y_train, y_test = train_test_split(features, labels, test_size=0.3, random_state=42)"
   ]
  },
  {
   "cell_type": "code",
   "execution_count": null,
   "metadata": {
    "deletable": false,
    "nbgrader": {
     "checksum": "916b134be872a9cd9bb6b0096f6738ac",
     "grade": false,
     "grade_id": "cell-866f7c557da11b80",
     "locked": false,
     "schema_version": 1,
     "solution": true
    }
   },
   "outputs": [],
   "source": [
    "\"\"\"\n",
    "Fit a RandomForestClassifier to this data. Find accuracy on test data.\n",
    "\n",
    "NOTE: Just write code in this cell. Do not create a function.\n",
    "\"\"\"\n",
    "# YOUR CODE HERE\n",
    "raise NotImplementedError()\n",
    "\n",
    "print(f\"{rf_mushroom_acc:.4f}\")"
   ]
  },
  {
   "cell_type": "code",
   "execution_count": null,
   "metadata": {
    "deletable": false,
    "editable": false,
    "nbgrader": {
     "checksum": "b50534bed44dc7403575992bc75379b9",
     "grade": true,
     "grade_id": "cell-7a5d0bf123c0b1a9",
     "locked": true,
     "points": 2,
     "schema_version": 1,
     "solution": false
    }
   },
   "outputs": [],
   "source": [
    "\"\"\"\n",
    "2 points\n",
    "Test code for the cell above.\n",
    "This cell should NOT give any errors when it is run.\n",
    "\"\"\"\n",
    "\n",
    "assert rf_mushroom.__class__.__name__.split('.')[-1] == 'RandomForestClassifier'\n",
    "assert rf_mushroom_acc == 1.0000"
   ]
  },
  {
   "cell_type": "code",
   "execution_count": null,
   "metadata": {
    "deletable": false,
    "nbgrader": {
     "checksum": "ac2e6b43a134f7a907f75be55818d0d4",
     "grade": false,
     "grade_id": "cell-29d87ba05cf3c7c8",
     "locked": false,
     "schema_version": 1,
     "solution": true
    }
   },
   "outputs": [],
   "source": [
    "\"\"\"\n",
    "Fit a Naive Bayes to this data. Find accuracy on test data.\n",
    "\n",
    "Hint: You must import the correct implementation of Naive Bayes from scikit-learn. \n",
    "\n",
    "NOTE: Just write code in this cell. Do not create a function.\n",
    "\"\"\"\n",
    "# YOUR CODE HERE\n",
    "raise NotImplementedError()\n",
    "\n",
    "print(f\"{nb_mushroom_acc:.4f}\")"
   ]
  },
  {
   "cell_type": "code",
   "execution_count": null,
   "metadata": {
    "deletable": false,
    "editable": false,
    "nbgrader": {
     "checksum": "da1094eec4b029b7ee1200dd7854253a",
     "grade": true,
     "grade_id": "cell-70cc296a04f113e9",
     "locked": true,
     "points": 2,
     "schema_version": 1,
     "solution": false
    }
   },
   "outputs": [],
   "source": [
    "\"\"\"\n",
    "2 points\n",
    "Test code for the cell above.\n",
    "There are hidden tests. They will make sure you used the correct version of Naive Bayes.\n",
    "This cell should NOT give any errors when it is run.\n",
    "\"\"\"\n",
    "from math import isclose\n",
    "\n",
    "assert isclose(nb_mushroom_acc, 0.9376282314320886)\n",
    "assert set(nb_mushroom.classes_) == {0, 1} \n",
    " "
   ]
  },
  {
   "cell_type": "markdown",
   "metadata": {
    "deletable": false,
    "editable": false,
    "nbgrader": {
     "checksum": "68d69cc81f7b89add066f7f587412992",
     "grade": false,
     "grade_id": "cell-55b376a336919412",
     "locked": true,
     "schema_version": 1,
     "solution": false
    }
   },
   "source": [
    "Bonus Cartoon\n",
    "------\n",
    "\n",
    "<center><img src=\"https://imgs.xkcd.com/comics/mushrooms.png\" width=\"75%\"/></center>\n"
   ]
  },
  {
   "cell_type": "markdown",
   "metadata": {
    "deletable": false,
    "editable": false,
    "nbgrader": {
     "checksum": "09a2aa8aba527974e6dca328efeb0bce",
     "grade": false,
     "grade_id": "cell-ff2d070e25115ec4",
     "locked": true,
     "schema_version": 1,
     "solution": false
    }
   },
   "source": [
    "<br>\n",
    "<br> \n",
    "<br>\n",
    "\n",
    "----"
   ]
  }
 ],
 "metadata": {
  "anaconda-cloud": {},
  "kernelspec": {
   "display_name": "Python 3",
   "language": "python",
   "name": "python3"
  },
  "language_info": {
   "codemirror_mode": {
    "name": "ipython",
    "version": 3
   },
   "file_extension": ".py",
   "mimetype": "text/x-python",
   "name": "python",
   "nbconvert_exporter": "python",
   "pygments_lexer": "ipython3",
   "version": "3.6.6"
  }
 },
 "nbformat": 4,
 "nbformat_minor": 1
}
