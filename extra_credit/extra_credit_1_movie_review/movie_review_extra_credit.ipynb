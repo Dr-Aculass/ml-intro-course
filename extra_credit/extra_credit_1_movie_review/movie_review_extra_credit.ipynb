{
 "cells": [
  {
   "cell_type": "markdown",
   "metadata": {
    "nbgrader": {
     "grade": false,
     "grade_id": "cell-588eb434a3567ee2",
     "locked": true,
     "schema_version": 1,
     "solution": false
    }
   },
   "source": [
    "Extra Credit\n",
    "====\n",
    "\n",
    "Find the best model among scikit-learn's Logistic Regression, k-NN, Naive Bayes and SVM algorithms for `polarity dataset v2.0 (3.0Mb)` from http://www.cs.cornell.edu/People/pabo/movie-review-data/"
   ]
  },
  {
   "cell_type": "code",
   "execution_count": 37,
   "metadata": {
    "nbgrader": {
     "grade": false,
     "grade_id": "cell-15cd187291b14aba",
     "locked": true,
     "schema_version": 1,
     "solution": false
    }
   },
   "outputs": [],
   "source": [
    "reset -fs"
   ]
  },
  {
   "cell_type": "code",
   "execution_count": 38,
   "metadata": {
    "nbgrader": {
     "grade": false,
     "grade_id": "cell-88cacb6c7b8a5b37",
     "locked": true,
     "schema_version": 1,
     "solution": false
    }
   },
   "outputs": [],
   "source": [
    "from sklearn.datasets import load_files"
   ]
  },
  {
   "cell_type": "code",
   "execution_count": 39,
   "metadata": {
    "nbgrader": {
     "grade": false,
     "grade_id": "cell-47ca072821ac2e94",
     "locked": true,
     "schema_version": 1,
     "solution": false
    }
   },
   "outputs": [
    {
     "data": {
      "text/plain": [
       "['neg', 'pos']"
      ]
     },
     "execution_count": 39,
     "metadata": {},
     "output_type": "execute_result"
    }
   ],
   "source": [
    "# Load data\n",
    "# NOTE: Assume the data is already locally stored\n",
    "sentiment = load_files('./txt_sentoken/', \n",
    "                       encoding='utf-8',\n",
    "                       random_state=42)\n",
    "sentiment.target_names"
   ]
  },
  {
   "cell_type": "code",
   "execution_count": 40,
   "metadata": {
    "nbgrader": {
     "grade": false,
     "grade_id": "cell-ba2e3720ccc30c1d",
     "locked": true,
     "schema_version": 1,
     "solution": false
    }
   },
   "outputs": [],
   "source": [
    "from sklearn.model_selection import train_test_split"
   ]
  },
  {
   "cell_type": "code",
   "execution_count": 41,
   "metadata": {
    "nbgrader": {
     "grade": false,
     "grade_id": "cell-a2d9c0820b683880",
     "locked": true,
     "schema_version": 1,
     "solution": false
    }
   },
   "outputs": [],
   "source": [
    "# Create train/test split with labels\n",
    "# NOTE: `random_state` is not fixed, thus data selections will be random\n",
    "train_data, test_data, train_target, test_target = train_test_split(sentiment.data,\n",
    "                                                                    sentiment.target)"
   ]
  },
  {
   "cell_type": "code",
   "execution_count": 42,
   "metadata": {
    "nbgrader": {
     "grade": false,
     "grade_id": "cell-5ca293c2d3a7ab3e",
     "locked": true,
     "schema_version": 1,
     "solution": false
    }
   },
   "outputs": [],
   "source": [
    "# Accuracy will be the single metric\n",
    "from sklearn.metrics import accuracy_score"
   ]
  },
  {
   "cell_type": "code",
   "execution_count": 47,
   "metadata": {
    "nbgrader": {
     "grade": false,
     "grade_id": "cell-7152867643a89eb4d",
     "locked": false,
     "schema_version": 1,
     "solution": true
    }
   },
   "outputs": [],
   "source": [
    "def fit_extra_credit_model():\n",
    "    \"Fit your single best model, returning model and accuracy.\"\n",
    "\n",
    "    # Example solution; Replace with your solution\n",
    "    from sklearn.feature_extraction.text import CountVectorizer\n",
    "    from sklearn.naive_bayes import MultinomialNB\n",
    "    \n",
    "    vectorizer = CountVectorizer()\n",
    "    train_features = vectorizer.fit_transform(train_data)\n",
    "    test_features = vectorizer.transform(test_data)\n",
    "    \n",
    "    model = MultinomialNB()\n",
    "    model.fit(train_features, train_target)\n",
    "    predicted = model.predict(test_features)\n",
    "    \n",
    "    return model, accuracy_score(predicted, test_target)"
   ]
  },
  {
   "cell_type": "code",
   "execution_count": 44,
   "metadata": {},
   "outputs": [],
   "source": [
    "# List of acceptable models\n",
    "# GLM - http://scikit-learn.org/stable/modules/linear_model.html\n",
    "# k-NN - http://scikit-learn.org/stable/modules/neighbors.html\n",
    "# Naive Bayes - http://scikit-learn.org/stable/modules/naive_bayes.html\n",
    "# SVM - http://scikit-learn.org/stable/modules/svm.html\n",
    "\n",
    "acceptable_algos = {'linear_model', 'neighbors', 'naive_bayes', 'svm'}"
   ]
  },
  {
   "cell_type": "code",
   "execution_count": 55,
   "metadata": {
    "nbgrader": {
     "grade": true,
     "grade_id": "cell-4298c3764bc4284f4",
     "locked": true,
     "points": 10,
     "schema_version": 1,
     "solution": false
    }
   },
   "outputs": [],
   "source": [
    "\"\"\"\n",
    "Points will be determined later.\n",
    "Test code for the 'fit_best_model' function.\n",
    "This cell should NOT give any errors when it is run, warnings are okay.\n",
    "\"\"\"\n",
    "model, accuracy = fit_extra_credit_model()\n",
    "raw_name = str(model.__class__)\n",
    "model_module = raw_name.split('.')[1]\n",
    "assert model_module in acceptable_algos # Check that your model an instance of an acceptable algorithm"
   ]
  },
  {
   "cell_type": "code",
   "execution_count": 57,
   "metadata": {},
   "outputs": [
    {
     "name": "stdout",
     "output_type": "stream",
     "text": [
      "Model: Naive Bayes\n",
      "Acc: 0.822\n"
     ]
    }
   ],
   "source": [
    "# Visual inspection\n",
    "name_formatted = model_module.replace(\"_\", \" \").title()\n",
    "print(f\"Model: {name_formatted}\")\n",
    "print(f\"Acc: {accuracy}\")"
   ]
  },
  {
   "cell_type": "markdown",
   "metadata": {
    "nbgrader": {
     "grade": false,
     "grade_id": "cell-ff2d070e25115ec4",
     "locked": true,
     "schema_version": 1,
     "solution": false
    }
   },
   "source": [
    "<br>\n",
    "<br> \n",
    "<br>\n",
    "\n",
    "----"
   ]
  }
 ],
 "metadata": {
  "anaconda-cloud": {},
  "kernelspec": {
   "display_name": "Python 3",
   "language": "python",
   "name": "python3"
  },
  "language_info": {
   "codemirror_mode": {
    "name": "ipython",
    "version": 3
   },
   "file_extension": ".py",
   "mimetype": "text/x-python",
   "name": "python",
   "nbconvert_exporter": "python",
   "pygments_lexer": "ipython3",
   "version": "3.6.6"
  }
 },
 "nbformat": 4,
 "nbformat_minor": 1
}
