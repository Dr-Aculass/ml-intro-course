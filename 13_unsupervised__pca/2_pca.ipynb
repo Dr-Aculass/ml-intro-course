{
 "cells": [
  {
   "cell_type": "markdown",
   "metadata": {
    "slideshow": {
     "slide_type": "slide"
    }
   },
   "source": [
    "<center><h2>Dimensionality Reduction & PCA</h2></center>\n",
    "<br>\n",
    "<center><img src=\"https://imgs.xkcd.com/comics/flatland.png\" width=\"95%\"/></center>"
   ]
  },
  {
   "cell_type": "markdown",
   "metadata": {
    "slideshow": {
     "slide_type": "slide"
    }
   },
   "source": [
    "By The End Of This Session You Should Be Able To:\n",
    "----\n",
    "\n",
    "- Explain when to use Dimensionality Reduction techniques\n",
    "- List the step of PCA\n",
    "- Explain what PCA does in your words\n",
    "- Apply PCA with scikit-learn"
   ]
  },
  {
   "cell_type": "markdown",
   "metadata": {
    "slideshow": {
     "slide_type": "slide"
    }
   },
   "source": [
    "What is Dimensionality Reduction used for?\n",
    "------\n",
    "\n",
    "1. Data compression\n",
    "1. Data visualization\n"
   ]
  },
  {
   "cell_type": "markdown",
   "metadata": {
    "slideshow": {
     "slide_type": "slide"
    }
   },
   "source": [
    "Data compression\n",
    "-----\n",
    "\n",
    "Combine many raw data into a fewer latent features that are meaningful & \"similar\" \n",
    "\n",
    "Thereby mitigating:\n",
    "\n",
    "- Multicolinearity / Redundant features\n",
    "- \"The Curse of Dimensionality\""
   ]
  },
  {
   "cell_type": "markdown",
   "metadata": {
    "slideshow": {
     "slide_type": "slide"
    }
   },
   "source": [
    "Why is data compression useful for ML?\n",
    "-----\n",
    "\n",
    "1. Reduce memory / disk space footprint\n",
    "1. Speedup ML models (training and predicting)"
   ]
  },
  {
   "cell_type": "markdown",
   "metadata": {
    "slideshow": {
     "slide_type": "slide"
    }
   },
   "source": [
    "Data visualization\n",
    "------\n",
    "\n",
    "Humans can only visualize things in 1-3 dimensions.\n",
    "\n",
    "Interesting data is often has many more dimensions."
   ]
  },
  {
   "cell_type": "markdown",
   "metadata": {
    "slideshow": {
     "slide_type": "slide"
    }
   },
   "source": [
    "Dimensionality Reduction for visualization\n",
    "------\n",
    "\n",
    "<center><img src=\"https://lvdmaaten.github.io/tsne/examples/caltech101_tsne.jpg\" width=\"25%\"/></center>\n",
    "\n",
    "[Larger version of image](https://lvdmaaten.github.io/tsne/examples/caltech101_tsne.jpg)\n",
    "\n",
    "T-distributed Stochastic Neighbor Embedding (t-SNE) is currently popular.\n",
    "\n",
    "Uses KL divergence!\n",
    "\n",
    "(There are many others)"
   ]
  },
  {
   "cell_type": "code",
   "execution_count": null,
   "metadata": {
    "slideshow": {
     "slide_type": "slide"
    }
   },
   "outputs": [],
   "source": [
    "# In scikit-learn\n",
    "\n",
    "from sklearn.manifold import TSNE"
   ]
  },
  {
   "cell_type": "markdown",
   "metadata": {
    "slideshow": {
     "slide_type": "skip"
    }
   },
   "source": [
    "Source:\n",
    "\n",
    "- https://lvdmaaten.github.io/tsne/\n",
    "- Data Reduction Techniques for Scientific Visualization and Data Analysis https://pdfs.semanticscholar.org/e555/db81c878deb01f0e8003bc90a30898e3d518.pdf\n"
   ]
  },
  {
   "cell_type": "markdown",
   "metadata": {
    "slideshow": {
     "slide_type": "slide"
    }
   },
   "source": [
    "<h3>Principal Component Analysis (PCA) for Dimension Reduction</h3>\n",
    "\n",
    "<center><img src=\"https://de.mathworks.com/help/examples/stats_featured/win64/orthoregdemo_01.png\" width=\"45%\"/></center>\n",
    "\n",
    "Let's think of our data as a point cloud in dimensional space.\n",
    "\n",
    "How can we define a simple operation to create the best 1-dimensional representation of our data?"
   ]
  },
  {
   "cell_type": "markdown",
   "metadata": {
    "slideshow": {
     "slide_type": "slide"
    }
   },
   "source": [
    "\n",
    "One-Dimensional PCA\n",
    "----\n",
    "\n",
    "We want to find a **line** so that the *projection* of the data onto that line that results in:\n",
    "\n",
    "- *Maximum variance* as a 1-dimensional data set.\n",
    "- _Minimizing the total squared distance_ to original data\n"
   ]
  },
  {
   "cell_type": "markdown",
   "metadata": {
    "slideshow": {
     "slide_type": "slide"
    }
   },
   "source": [
    "<center><img src=\"images/pca.gif\" width=\"100%\"/></center>"
   ]
  },
  {
   "cell_type": "markdown",
   "metadata": {
    "slideshow": {
     "slide_type": "skip"
    }
   },
   "source": [
    "Source: http://stats.stackexchange.com/a/140579/74500"
   ]
  },
  {
   "cell_type": "markdown",
   "metadata": {
    "slideshow": {
     "slide_type": "slide"
    }
   },
   "source": [
    "Two-Dimensional Principal Component Analysis (PCA) \n",
    "-----\n",
    "\n",
    "<center><img src=\"https://stanford.edu/~shervine/images/pca.png\" width=\"100%\"/></center>\n",
    "\n",
    "Project the data into fewer dimensions that maximizes the variance of the projected space"
   ]
  },
  {
   "cell_type": "markdown",
   "metadata": {
    "slideshow": {
     "slide_type": "skip"
    }
   },
   "source": [
    "Source: https://stanford.edu/~shervine/teaching/cs-229/cheatsheet-unsupervised-learning"
   ]
  },
  {
   "cell_type": "markdown",
   "metadata": {
    "slideshow": {
     "slide_type": "slide"
    }
   },
   "source": [
    "Computing Principal Components\n",
    "-----\n",
    "\n",
    "The solution to the problem of finding principal components involves the *eigenvalues* and *eigenvectors* of the covariance matrix of the data $X$.\n",
    "\n",
    "$X$ is a dataset, which we represent as a $n \\times p$ matrix of numbers."
   ]
  },
  {
   "cell_type": "markdown",
   "metadata": {
    "slideshow": {
     "slide_type": "slide"
    }
   },
   "source": [
    "PCA Steps\n",
    "-----\n",
    "\n",
    "1. Standardize the data\n",
    "1. Compute the Covariance Matrix\n",
    "1. Compute the Eigenvectors and Eigenvalues of the Covariance Matrix"
   ]
  },
  {
   "cell_type": "markdown",
   "metadata": {
    "slideshow": {
     "slide_type": "slide"
    }
   },
   "source": [
    "PCA  Step 1: Standardize the data\n",
    "-------\n",
    "\n",
    "$${x_p^{(i)}\\leftarrow\\frac{x_p^{(i)}-\\mu_p}{\\sigma_p}}$$\n",
    "\n",
    "Standardize the data to have a mean of 0 and standard deviation of 1.\n",
    "\n",
    "Standardize each dimension independently (i.e., $p$ in the formula)."
   ]
  },
  {
   "cell_type": "markdown",
   "metadata": {
    "slideshow": {
     "slide_type": "slide"
    }
   },
   "source": [
    "Check for understanding\n",
    "-----\n",
    "\n",
    "Why is it necessary to standardize the variables?"
   ]
  },
  {
   "cell_type": "markdown",
   "metadata": {
    "slideshow": {
     "slide_type": "fragment"
    }
   },
   "source": [
    "The original data may have radically different scales (e.g., gallons vs. light years). \n",
    "\n",
    "Performing PCA on un-standardized variables will lead to very large loadings for variables with high variance. \n",
    "\n",
    "In turn, this will lead to bias PCA to the features with higher variance."
   ]
  },
  {
   "cell_type": "markdown",
   "metadata": {
    "slideshow": {
     "slide_type": "skip"
    }
   },
   "source": [
    "Source: https://www.analyticsvidhya.com/blog/2016/03/practical-guide-principal-component-analysis-python/"
   ]
  },
  {
   "cell_type": "code",
   "execution_count": null,
   "metadata": {
    "slideshow": {
     "slide_type": "skip"
    }
   },
   "outputs": [],
   "source": [
    "reset -fs"
   ]
  },
  {
   "cell_type": "code",
   "execution_count": null,
   "metadata": {
    "slideshow": {
     "slide_type": "skip"
    }
   },
   "outputs": [],
   "source": [
    "import matplotlib.pyplot as plt\n",
    "import numpy as np\n",
    "import pandas as pd\n",
    "import seaborn as sns\n",
    "import sklearn\n",
    "\n",
    "import warnings\n",
    "warnings.filterwarnings('ignore')\n",
    "\n",
    "palette = \"Dark2\"\n",
    "%matplotlib inline"
   ]
  },
  {
   "cell_type": "code",
   "execution_count": 15,
   "metadata": {
    "slideshow": {
     "slide_type": "slide"
    }
   },
   "outputs": [
    {
     "data": {
      "image/png": "[encoded data removed]",
      "text/plain": [
       "<Figure size 432x288 with 1 Axes>"
      ]
     },
     "metadata": {
      "needs_background": "light"
     },
     "output_type": "display_data"
    }
   ],
   "source": [
    "# Generate toy bivariate distribution\n",
    "rng = np.random.RandomState(42)\n",
    "X = np.dot(rng.rand(2, 2), rng.randn(2, 200)).T\n",
    "plt.scatter(X[:, 0], X[:, 1])\n",
    "plt.axis('equal');"
   ]
  },
  {
   "cell_type": "code",
   "execution_count": 16,
   "metadata": {
    "slideshow": {
     "slide_type": "slide"
    }
   },
   "outputs": [
    {
     "data": {
      "image/png": "[encoded data removed]",
      "text/plain": [
       "<Figure size 432x288 with 1 Axes>"
      ]
     },
     "metadata": {
      "needs_background": "light"
     },
     "output_type": "display_data"
    }
   ],
   "source": [
    "from sklearn.preprocessing import StandardScaler\n",
    "\n",
    "X = StandardScaler().fit_transform(X)\n",
    "plt.scatter(X[:, 0], X[:, 1])\n",
    "plt.axis('equal');"
   ]
  },
  {
   "cell_type": "markdown",
   "metadata": {
    "slideshow": {
     "slide_type": "slide"
    }
   },
   "source": [
    "PCA  Step 2: Compute the Covariance Matrix\n",
    "-------\n",
    "\n",
    "$$ Σ =   \\begin{bmatrix}\n",
    "Var(x_1) & Cov(x_1, x_2)  \\\\       \n",
    "Cov(x_1, x_2)  & Var(x_2) \\\\\n",
    "\\end{bmatrix} $$\n"
   ]
  },
  {
   "cell_type": "markdown",
   "metadata": {
    "slideshow": {
     "slide_type": "skip"
    }
   },
   "source": [
    "PCA  Step 2: Compute the Covariance Matrix\n",
    "-------\n",
    "\n",
    "<center><img src=\"https://www.riskprep.com/images/stories/portfolio/covar_matrix.gif\" width=\"75%\"/></center>"
   ]
  },
  {
   "cell_type": "markdown",
   "metadata": {
    "slideshow": {
     "slide_type": "slide"
    }
   },
   "source": [
    "PCA  Step 2: Compute the Covariance Matrix $Σ$\n",
    "-------\n",
    "\n",
    "Given that we have standardized the points, the sample covariance matrix is $Σ  = \\frac{1}{n} X^t X$  "
   ]
  },
  {
   "cell_type": "code",
   "execution_count": 17,
   "metadata": {
    "slideshow": {
     "slide_type": "slide"
    }
   },
   "outputs": [
    {
     "data": {
      "text/plain": [
       "array([[1.        , 0.89292945],\n",
       "       [0.89292945, 1.        ]])"
      ]
     },
     "execution_count": 17,
     "metadata": {},
     "output_type": "execute_result"
    }
   ],
   "source": [
    "Σ = (1/X.shape[0]) * np.dot(X.T, X)\n",
    "Σ "
   ]
  },
  {
   "cell_type": "code",
   "execution_count": null,
   "metadata": {
    "slideshow": {
     "slide_type": "skip"
    }
   },
   "outputs": [],
   "source": [
    "# Double check\n",
    "np.cov(X, rowvar=0)"
   ]
  },
  {
   "cell_type": "markdown",
   "metadata": {
    "slideshow": {
     "slide_type": "slide"
    }
   },
   "source": [
    "<h3>PCA Step 3: Compute the Eigenvectors and Eigenvalues of $Σ$ </h3>\n",
    "\n",
    "When the eigenvalue are sorted from high-to-low, the eigenvectors are the principal components of $X$."
   ]
  },
  {
   "cell_type": "code",
   "execution_count": 18,
   "metadata": {
    "slideshow": {
     "slide_type": "fragment"
    }
   },
   "outputs": [
    {
     "name": "stdout",
     "output_type": "stream",
     "text": [
      "The eigenvectors of Σ  are:\n",
      "[[ 0.70710678 -0.70710678]\n",
      " [ 0.70710678  0.70710678]] \n",
      "\n",
      "The eigenvalues of Σ  are [1.89292945 0.10707055]\n"
     ]
    }
   ],
   "source": [
    "e_values, e_vectors = np.linalg.eig(Σ)\n",
    "print(\"The eigenvectors of Σ  are:\")\n",
    "print(e_vectors,\"\\n\")\n",
    "print(f\"The eigenvalues of Σ  are {e_values}\")"
   ]
  },
  {
   "cell_type": "markdown",
   "metadata": {
    "slideshow": {
     "slide_type": "skip"
    }
   },
   "source": [
    "Since $Σ$ is a symmetric, it has a full set of $p$ eigenvectors.\n",
    "\n",
    "Since $Σ$ is non-negative definite,  the eigenvalues are non-negative numbers."
   ]
  },
  {
   "cell_type": "markdown",
   "metadata": {
    "slideshow": {
     "slide_type": "slide"
    }
   },
   "source": [
    "Eigenvectors\n",
    "-----\n",
    "\n",
    "Recall that the **eigenvectors** of $Σ$ are vectors $v$ that satisfy a relationship like:\n",
    "\n",
    "$$ Σ  v = \\lambda v $$\n",
    "\n",
    "The matrix $Σ $ acts as a **scaling** on the vector $v$."
   ]
  },
  {
   "cell_type": "markdown",
   "metadata": {
    "slideshow": {
     "slide_type": "slide"
    }
   },
   "source": [
    "We found the set of eigenvectors $\\{\\vec{e_i}\\}$ of the covariance matrix $Σ  = \\frac{1}{n}X^T X$\n",
    "\n",
    "These satisfy the equation $Σ \\vec{e_i} = \\lambda_i \\vec{e_i}$, where $\\lambda_i$ is the variance along the direction defined by $\\vec{e_i}$"
   ]
  },
  {
   "cell_type": "markdown",
   "metadata": {
    "slideshow": {
     "slide_type": "fragment"
    }
   },
   "source": [
    "Concatenating all these eigenvectors into a matrix $E$ gives us the matrix representing a rotation in feature space.\n",
    "\n",
    "$X$ in our new coordinates is $X' = XE^T$"
   ]
  },
  {
   "cell_type": "markdown",
   "metadata": {
    "slideshow": {
     "slide_type": "skip"
    }
   },
   "source": [
    "Our covariance matrix in these new coordinates is \n",
    "\n",
    "$Σ' = \\frac{1}{n}X'^T X' = \\frac{1}{n}(XE^T)^T(XE^T) = \\frac{1}{n}EX^TXE^T = EME^T$ \n",
    "\n",
    "$Σ' = \n",
    "\\begin{bmatrix}\n",
    "\\lambda_1 \t& 0 \t & \\cdots \t  & 0 \t\\\\\n",
    "0 \t& \\lambda_2 \t & \\cdots \t  & 0 \t\\\\\n",
    "\\vdots \t& \\vdots \t & \\ddots & 0 \t\\\\\n",
    "0 \t& 0 & 0 \t  & \\lambda_p\t\n",
    "\\end{bmatrix}\n",
    "$\n",
    " "
   ]
  },
  {
   "cell_type": "markdown",
   "metadata": {
    "slideshow": {
     "slide_type": "slide"
    }
   },
   "source": [
    "PCA in scikit-learn\n",
    "------"
   ]
  },
  {
   "cell_type": "code",
   "execution_count": 37,
   "metadata": {
    "slideshow": {
     "slide_type": "slide"
    }
   },
   "outputs": [
    {
     "data": {
      "image/png": "[encoded data removed]",
      "text/plain": [
       "<Figure size 432x288 with 1 Axes>"
      ]
     },
     "metadata": {
      "needs_background": "light"
     },
     "output_type": "display_data"
    }
   ],
   "source": [
    "# Generate toy dataset\n",
    "rng = np.random.RandomState(42)\n",
    "X = np.dot(rng.rand(2, 2), rng.randn(2, 200)).T\n",
    "plt.scatter(X[:, 0], X[:, 1])\n",
    "plt.axis('equal');"
   ]
  },
  {
   "cell_type": "code",
   "execution_count": 20,
   "metadata": {
    "slideshow": {
     "slide_type": "slide"
    }
   },
   "outputs": [
    {
     "data": {
      "image/png": "[encoded data removed]",
      "text/plain": [
       "<Figure size 432x288 with 1 Axes>"
      ]
     },
     "metadata": {
      "needs_background": "light"
     },
     "output_type": "display_data"
    }
   ],
   "source": [
    "from sklearn.preprocessing import StandardScaler\n",
    "\n",
    "X = StandardScaler().fit_transform(X)\n",
    "plt.scatter(X[:, 0], X[:, 1])\n",
    "plt.axis('equal');"
   ]
  },
  {
   "cell_type": "code",
   "execution_count": 21,
   "metadata": {
    "slideshow": {
     "slide_type": "slide"
    }
   },
   "outputs": [],
   "source": [
    "from sklearn.decomposition import PCA\n",
    "\n",
    "pca = PCA(2).fit(X)"
   ]
  },
  {
   "cell_type": "code",
   "execution_count": 22,
   "metadata": {
    "slideshow": {
     "slide_type": "slide"
    }
   },
   "outputs": [
    {
     "name": "stdout",
     "output_type": "stream",
     "text": [
      "[[ 0.70710678  0.70710678]\n",
      " [-0.70710678  0.70710678]]\n"
     ]
    }
   ],
   "source": [
    "# These are the eigenvectors\n",
    "print(pca.components_)"
   ]
  },
  {
   "cell_type": "code",
   "execution_count": 24,
   "metadata": {
    "slideshow": {
     "slide_type": "fragment"
    }
   },
   "outputs": [
    {
     "name": "stdout",
     "output_type": "stream",
     "text": [
      "[1.90244165 0.1076086 ]\n"
     ]
    }
   ],
   "source": [
    "# These are the eigenvalues\n",
    "print(pca.explained_variance_)"
   ]
  },
  {
   "cell_type": "code",
   "execution_count": 25,
   "metadata": {
    "slideshow": {
     "slide_type": "fragment"
    }
   },
   "outputs": [
    {
     "name": "stdout",
     "output_type": "stream",
     "text": [
      "[0.94646472 0.05353528]\n"
     ]
    }
   ],
   "source": [
    "print(pca.explained_variance_ratio_)"
   ]
  },
  {
   "cell_type": "code",
   "execution_count": 26,
   "metadata": {
    "slideshow": {
     "slide_type": "fragment"
    }
   },
   "outputs": [
    {
     "name": "stdout",
     "output_type": "stream",
     "text": [
      " Component #1: 94.65% \n",
      " Component #2:  5.35%\n"
     ]
    }
   ],
   "source": [
    "print(\" Component #1: {:>6.2%} \\n Component #2: {:>6.2%}\".format(*pca.explained_variance_ratio_))"
   ]
  },
  {
   "cell_type": "code",
   "execution_count": 29,
   "metadata": {
    "slideshow": {
     "slide_type": "slide"
    }
   },
   "outputs": [
    {
     "data": {
      "image/png": "[encoded data removed]",
      "text/plain": [
       "<Figure size 432x288 with 1 Axes>"
      ]
     },
     "metadata": {
      "needs_background": "light"
     },
     "output_type": "display_data"
    }
   ],
   "source": [
    "def draw_vector(v0, v1, ax=None):\n",
    "    ax = ax or plt.gca()\n",
    "    arrowprops=dict(arrowstyle='->',\n",
    "                    linewidth=2,\n",
    "                    shrinkA=0, shrinkB=0)\n",
    "    ax.annotate('', v1, v0, arrowprops=arrowprops)\n",
    "\n",
    "# plot data\n",
    "plt.scatter(X[:, 0], X[:, 1])\n",
    "for length, vector in zip(pca.explained_variance_, pca.components_):\n",
    "    v = vector * 3 * np.sqrt(length)\n",
    "    draw_vector(pca.mean_, pca.mean_ + v)\n",
    "    break # Plot just the 1st component\n",
    "plt.axis('equal');"
   ]
  },
  {
   "cell_type": "code",
   "execution_count": 30,
   "metadata": {
    "slideshow": {
     "slide_type": "slide"
    }
   },
   "outputs": [
    {
     "data": {
      "image/png": "[encoded data removed]",
      "text/plain": [
       "<Figure size 1152x432 with 2 Axes>"
      ]
     },
     "metadata": {
      "needs_background": "light"
     },
     "output_type": "display_data"
    }
   ],
   "source": [
    "fig, ax = plt.subplots(1, 2, figsize=(16, 6)); fig.subplots_adjust(left=0.0625, right=0.95, wspace=0.1)\n",
    "\n",
    "# plot data\n",
    "ax[0].scatter(X[:, 0], X[:, 1])\n",
    "for length, vector in zip(pca.explained_variance_, pca.components_):\n",
    "    v = vector * 3 * np.sqrt(length); draw_vector(pca.mean_, pca.mean_ + v, ax=ax[0])\n",
    "ax[0].axis('equal'); ax[0].set(xlabel='x', ylabel='y', title='input');\n",
    "\n",
    "# plot principal components\n",
    "X_pca = pca.transform(X); ax[1].scatter(X_pca[:, 0], X_pca[:, 1]); draw_vector([0, 0], [0, 3], ax=ax[1]); draw_vector([0, 0], [3, 0], ax=ax[1]); ax[1].axis('equal');ax[1].set(xlabel='component 1', ylabel='component 2', title='principal components', xlim=(-5, 5), ylim=(-3, 3.1));"
   ]
  },
  {
   "cell_type": "markdown",
   "metadata": {
    "slideshow": {
     "slide_type": "slide"
    }
   },
   "source": [
    "Summary Thus Far\n",
    "-----\n",
    "\n",
    "- The Principal Components algorithm computes the *eigenvectors* and *eigenvalues* of the covariance matrix $X^t X$.\n",
    "- Each eigenvector is called a *principal component* of $X$ and represents a direction in feature space.\n",
    "- Each eigenvalue is the _amount of variance_ along its corresponding eigenvector.\n",
    "- The matrix of eigenvectors $E$ represents a _rotation matrix_ from the original feature axes into the principal component axes.\n",
    "- Projecting onto the first $k$ principal components creates the **best k dimensional reconstruction of the data**. "
   ]
  },
  {
   "cell_type": "markdown",
   "metadata": {
    "slideshow": {
     "slide_type": "slide"
    }
   },
   "source": [
    "<center><h2>Questions?</h2></center>"
   ]
  },
  {
   "cell_type": "markdown",
   "metadata": {
    "slideshow": {
     "slide_type": "skip"
    }
   },
   "source": [
    "Source: https://jakevdp.github.io/PythonDataScienceHandbook/05.09-principal-component-analysis.html"
   ]
  },
  {
   "cell_type": "code",
   "execution_count": 31,
   "metadata": {
    "slideshow": {
     "slide_type": "slide"
    }
   },
   "outputs": [],
   "source": [
    "# Let's try it our favorite dataset\n",
    "from sklearn.datasets import load_iris\n",
    "\n",
    "# We just need the data (no need for targets)\n",
    "X = load_iris().data"
   ]
  },
  {
   "cell_type": "code",
   "execution_count": 32,
   "metadata": {
    "slideshow": {
     "slide_type": "fragment"
    }
   },
   "outputs": [],
   "source": [
    "from sklearn.preprocessing import StandardScaler\n",
    "\n",
    "X_std = StandardScaler().fit_transform(X)"
   ]
  },
  {
   "cell_type": "code",
   "execution_count": 33,
   "metadata": {
    "slideshow": {
     "slide_type": "slide"
    }
   },
   "outputs": [],
   "source": [
    "results = {}\n",
    "for n_components in range(1, 5):\n",
    "    pca = PCA(n_components=n_components, random_state=42)\n",
    "    pca.fit(X_std);\n",
    "    results[n_components] = pca"
   ]
  },
  {
   "cell_type": "markdown",
   "metadata": {
    "slideshow": {
     "slide_type": "skip"
    }
   },
   "source": [
    "Why does PCA have random state?\n",
    "-----\n",
    "\n",
    "Overall, not important.\n",
    "\n",
    "PCA is a version of SVD. scikit-learn uses a specific SVD solver that can be stochastic.\n",
    "\n",
    "https://scikit-learn.org/stable/modules/generated/sklearn.decomposition.PCA.html"
   ]
  },
  {
   "cell_type": "code",
   "execution_count": 34,
   "metadata": {
    "slideshow": {
     "slide_type": "fragment"
    }
   },
   "outputs": [
    {
     "name": "stdout",
     "output_type": "stream",
     "text": [
      "[0.72962445]\n",
      "[0.72962445 0.22850762]\n",
      "[0.72962445 0.22850762 0.03668922]\n",
      "[0.72962445 0.22850762 0.03668922 0.00517871]\n"
     ]
    }
   ],
   "source": [
    "# Let look at different components\n",
    "for pca_current in results.values():\n",
    "    print(pca_current.explained_variance_ratio_)"
   ]
  },
  {
   "cell_type": "markdown",
   "metadata": {
    "slideshow": {
     "slide_type": "fragment"
    }
   },
   "source": [
    "Notice the components are orthogonal.\n",
    "\n",
    "What is the sum?"
   ]
  },
  {
   "cell_type": "code",
   "execution_count": null,
   "metadata": {
    "slideshow": {
     "slide_type": "fragment"
    }
   },
   "outputs": [],
   "source": [
    "sum(pca_current.explained_variance_ratio_)"
   ]
  },
  {
   "cell_type": "markdown",
   "metadata": {
    "slideshow": {
     "slide_type": "skip"
    }
   },
   "source": [
    "Source: https://plot.ly/ipython-notebooks/principal-component-analysis/"
   ]
  },
  {
   "cell_type": "code",
   "execution_count": 35,
   "metadata": {
    "slideshow": {
     "slide_type": "slide"
    }
   },
   "outputs": [
    {
     "data": {
      "image/png": "[encoded data removed]",
      "text/plain": [
       "<Figure size 432x288 with 1 Axes>"
      ]
     },
     "metadata": {
      "needs_background": "light"
     },
     "output_type": "display_data"
    }
   ],
   "source": [
    "plt.bar(x=[1, 2, 3, 4], height=pca_current.explained_variance_ratio_);\n",
    "plt.title(\"Variance as a function of # of components\");plt.ylim(top=1);plt.xlabel(\"Component\");plt.ylabel(\"Variance\");"
   ]
  },
  {
   "cell_type": "markdown",
   "metadata": {
    "slideshow": {
     "slide_type": "slide"
    }
   },
   "source": [
    "Screeplot: Variance by component\n",
    "-----\n",
    "<center><img src=\"https://i.stack.imgur.com/7Dsnv.png\" width=\"45%\"/></center>\n",
    "\n",
    "Law of diminishing marginal returns. "
   ]
  },
  {
   "cell_type": "markdown",
   "metadata": {
    "slideshow": {
     "slide_type": "slide"
    }
   },
   "source": [
    "How do you pick number of components\n",
    "-----\n",
    "\n",
    "1. Look for inflection point (e.g., \"elbow\" method)\n",
    "1. Set threshold for % of Variance (e.g., 85% of variance)"
   ]
  },
  {
   "cell_type": "markdown",
   "metadata": {
    "slideshow": {
     "slide_type": "skip"
    }
   },
   "source": [
    "Sidebar -  Using eigenvalues > 1\n",
    "------\n",
    "\n",
    "> … Those with eigenvalues less than 1.00 are not considered to be stable. They account for less variability than does a single variable and are not retained in the analysis. In this sense, you end up with fewer factors than original number of variables. \n",
    "\n",
    "Works best:\n",
    "\n",
    "- > 250 samples\n",
    "- > 10-30 features\n",
    "\n",
    "Girden, E. R. (2001). Evaluating research articles from start to finish. Thousand Oaks, Calif., Sage Publications.\n",
    "\n",
    "[Source](https://books.google.com/books?id=-3ZsyqzKLQwC&pg=PA157&lpg=PA157&dq=Those+with+eigenvalues+less+than+1.00+are+not+considered+to+be+stable.&source=bl&ots=CaUYqACrMO&sig=er1qRkGtj-TAtJltkYSP7YZU8gQ&hl=en&sa=X&ved=2ahUKEwi0kPaY7f_eAhWp7IMKHcrGDZQQ6AEwAXoECAgQAQ#v=onepage&q=Those%20with%20eigenvalues%20less%20than%201.00%20are%20not%20considered%20to%20be%20stable.&f=false)"
   ]
  },
  {
   "cell_type": "markdown",
   "metadata": {
    "slideshow": {
     "slide_type": "skip"
    }
   },
   "source": [
    "Source: \n",
    "\n",
    "- https://datascience.stackexchange.com/questions/17216/pca-before-k-mean-clustering/17222\n",
    "- https://www.analyticsvidhya.com/blog/2016/03/practical-guide-principal-component-analysis-python/"
   ]
  },
  {
   "cell_type": "markdown",
   "metadata": {
    "slideshow": {
     "slide_type": "slide"
    }
   },
   "source": [
    "### Common Gotcha: Apply PCA both the training set and the test set"
   ]
  },
  {
   "cell_type": "code",
   "execution_count": null,
   "metadata": {
    "slideshow": {
     "slide_type": "fragment"
    }
   },
   "outputs": [],
   "source": [
    "from sklearn.model_selection import train_test_split\n",
    "\n",
    "iris = load_iris()\n",
    "X_std = StandardScaler().fit_transform(iris.data)\n",
    "X_train, X_test, y_train, y_test = train_test_split(X_std, iris.target, random_state=42)\n",
    "\n",
    "pca = PCA(n_components=2, random_state=42)\n",
    "pca.fit(X_std); # Entire dataset\n",
    "X_train_2_components = pca.transform(X_train) # Train\n",
    "X_test_2_components = pca.transform(X_test)   # Test"
   ]
  },
  {
   "cell_type": "markdown",
   "metadata": {
    "slideshow": {
     "slide_type": "fragment"
    }
   },
   "source": [
    "Or use just `Pipeline`"
   ]
  },
  {
   "cell_type": "markdown",
   "metadata": {
    "slideshow": {
     "slide_type": "slide"
    }
   },
   "source": [
    "Check for understanding: Student Activity\n",
    "-----\n",
    "\n",
    "1. Does PCA change the number of observations?\n",
    "\n",
    "1. Is PCA parametric or non-parametric?\n",
    "\n",
    "1. What are the weaknesses of PCA?\n",
    "\n",
    "1. What is the relationship between PCA and Linear Regression?"
   ]
  },
  {
   "cell_type": "markdown",
   "metadata": {
    "slideshow": {
     "slide_type": "slide"
    }
   },
   "source": [
    "1. No-It does not change the number of observations you have.  PCA just reduces dimensionality. p goes down. n stays the same\n",
    "\n",
    "1. PCA is non-parametric. PCA does __not__ make any distributional assumptions in order to extract the Principal Component directions.\n",
    "\n",
    "1. PCA weakness\n",
    "    - Manually set or tune number of dimensions.\n",
    "    - The new principal components are not interpretable. \n",
    "    \n",
    "1. Not much.  PCA is a unsupervised technique that tries to find the best basis to project the data. LR tries to find the linear relationship between dependent and an independent variable.\n",
    "\n",
    "    They might produce similar results in specific circumstances, but correlation is not mean causation."
   ]
  },
  {
   "cell_type": "markdown",
   "metadata": {
    "slideshow": {
     "slide_type": "skip"
    }
   },
   "source": [
    "Source: https://math.stackexchange.com/questions/684336/connection-between-pca-and-linear-regression"
   ]
  },
  {
   "cell_type": "markdown",
   "metadata": {
    "slideshow": {
     "slide_type": "slide"
    }
   },
   "source": [
    "Check for understanding\n",
    "-----"
   ]
  },
  {
   "cell_type": "code",
   "execution_count": 40,
   "metadata": {
    "slideshow": {
     "slide_type": "skip"
    }
   },
   "outputs": [
    {
     "data": {
      "image/png": "[encoded data removed]",
      "text/plain": [
       "<Figure size 432x288 with 1 Axes>"
      ]
     },
     "metadata": {
      "needs_background": "light"
     },
     "output_type": "display_data"
    }
   ],
   "source": [
    "# Sample bivariate distribution\n",
    "X = np.random.multivariate_normal(mean=np.zeros(2), cov=[[10, 0], [0, 10]], size=5_000)\n",
    "plt.scatter(X[:, 0], X[:, 1])\n",
    "plt.axis('equal');"
   ]
  },
  {
   "cell_type": "markdown",
   "metadata": {
    "slideshow": {
     "slide_type": "fragment"
    }
   },
   "source": [
    "What is the 1st Principle Component for this data?"
   ]
  },
  {
   "cell_type": "markdown",
   "metadata": {
    "slideshow": {
     "slide_type": "fragment"
    }
   },
   "source": [
    "Unclear - since the data has radial symmetry"
   ]
  },
  {
   "cell_type": "markdown",
   "metadata": {
    "slideshow": {
     "slide_type": "slide"
    }
   },
   "source": [
    "Check for understanding\n",
    "-----\n",
    "\n",
    "What is the "
   ]
  },
  {
   "cell_type": "markdown",
   "metadata": {
    "slideshow": {
     "slide_type": "slide"
    }
   },
   "source": [
    "Anti-patterns with PCA\n",
    "------\n",
    "\n",
    "1. Prevent overfitting by having fewer features \n",
    "2. Planning to use PCA from the start \n",
    "3. Clustering "
   ]
  },
  {
   "cell_type": "markdown",
   "metadata": {
    "slideshow": {
     "slide_type": "slide"
    }
   },
   "source": [
    "1) Prevent overfitting by having fewer features \n",
    "------\n",
    "\n",
    "Do __not__ use PCA to prevent overfiting.\n",
    "\n",
    "Use appropriate regularization instead.\n",
    "\n",
    "PCA might throw away valuable signal, other methods of regularization are weighted by signal."
   ]
  },
  {
   "cell_type": "markdown",
   "metadata": {
    "slideshow": {
     "slide_type": "slide"
    }
   },
   "source": [
    "2) Planning to use PCA from the start \n",
    "------\n",
    "\n",
    "First try to model the raw data. \n",
    "\n",
    "If it does not work, then create features with PCA."
   ]
  },
  {
   "cell_type": "markdown",
   "metadata": {
    "slideshow": {
     "slide_type": "slide"
    }
   },
   "source": [
    "3) Clustering\n",
    "------\n",
    "\n",
    "PCA does not create clusters.\n",
    "\n",
    "Use a clustering technique, like k-means."
   ]
  },
  {
   "cell_type": "markdown",
   "metadata": {
    "slideshow": {
     "slide_type": "slide"
    }
   },
   "source": [
    " Further Study\n",
    "------\n",
    "\n",
    "- Non-linear dimensionality reduction\n",
    "    - Sammon’s Mapping\n",
    "    - Multidimensional scaling\n",
    "    - Isomap"
   ]
  },
  {
   "cell_type": "markdown",
   "metadata": {
    "slideshow": {
     "slide_type": "slide"
    }
   },
   "source": [
    " Summary\n",
    " ------\n",
    "\n",
    " - Dimensionality Reduction techniques compress data to latent features which are easier to model and visualize.\n",
    " - PCA finds lower dimensional basis that best captures the variance in the data.\n",
    " - PCA steps:\n",
    "    1. Standardize the data\n",
    "    2. Compute the Covariance Matrix\n",
    "    3. Compute the Eigenvectors and Eigenvalues of the Covariance Matrix"
   ]
  },
  {
   "cell_type": "markdown",
   "metadata": {
    "slideshow": {
     "slide_type": "slide"
    }
   },
   "source": [
    " "
   ]
  },
  {
   "cell_type": "markdown",
   "metadata": {
    "slideshow": {
     "slide_type": "slide"
    }
   },
   "source": [
    "Bonus Material\n",
    "-------"
   ]
  },
  {
   "cell_type": "markdown",
   "metadata": {
    "slideshow": {
     "slide_type": "slide"
    }
   },
   "source": [
    "PCA is related to SVD\n",
    "------\n",
    "\n",
    "Source: https://stats.stackexchange.com/questions/134282/relationship-between-svd-and-pca-how-to-use-svd-to-perform-pca"
   ]
  },
  {
   "cell_type": "markdown",
   "metadata": {
    "slideshow": {
     "slide_type": "slide"
    }
   },
   "source": [
    "PCA is very different from ICA\n",
    "-----\n",
    "\n",
    "Source: https://stats.stackexchange.com/questions/35319/what-is-the-relationship-between-independent-component-analysis-and-factor-analy"
   ]
  },
  {
   "cell_type": "markdown",
   "metadata": {
    "slideshow": {
     "slide_type": "slide"
    }
   },
   "source": [
    "Implicitly, PCA assumes a constant (non-stationary) multivariate normal distribution of the data\n",
    "\n",
    "Source: http://cds.cern.ch/record/104910"
   ]
  },
  {
   "cell_type": "markdown",
   "metadata": {
    "slideshow": {
     "slide_type": "slide"
    }
   },
   "source": [
    " "
   ]
  }
 ],
 "metadata": {
  "celltoolbar": "Slideshow",
  "kernelspec": {
   "display_name": "Python 3",
   "language": "python",
   "name": "python3"
  },
  "language_info": {
   "codemirror_mode": {
    "name": "ipython",
    "version": 3
   },
   "file_extension": ".py",
   "mimetype": "text/x-python",
   "name": "python",
   "nbconvert_exporter": "python",
   "pygments_lexer": "ipython3",
   "version": "3.6.6"
  }
 },
 "nbformat": 4,
 "nbformat_minor": 2
}
