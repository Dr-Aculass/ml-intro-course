{
 "cells": [
  {
   "cell_type": "markdown",
   "metadata": {
    "slideshow": {
     "slide_type": "slide"
    }
   },
   "source": [
    "<center><h2>Clustering & k-means</h2></center>\n",
    "\n",
    "<center><img src=\"https://uploads.toptal.io/blog/image/92521/toptal-blog-image-1463639098844-eb9ad14c7f665e556b2cb66a65b6c257.jpg\" width=\"55%\"/></center>"
   ]
  },
  {
   "cell_type": "markdown",
   "metadata": {
    "slideshow": {
     "slide_type": "slide"
    }
   },
   "source": [
    "By The End Of This Session You Should Be Able To:\n",
    "----\n",
    "\n",
    "- Define clustering in your words.\n",
    "- List the steps of k-means clustering algorithm\n",
    "- Describe how to choose the best k in k-means\n",
    "- List advantages and disadvantages of k-means"
   ]
  },
  {
   "cell_type": "markdown",
   "metadata": {
    "slideshow": {
     "slide_type": "slide"
    }
   },
   "source": [
    "What is clustering?\n",
    "------\n",
    "\n",
    "<center><img src=\"images/clusters.png\" width=\"85%\"/></center>\n",
    "\n",
    "A unsupervised machine learning to find __discrete subgroups__, where items in one group are most similar to each other than items in another group."
   ]
  },
  {
   "cell_type": "markdown",
   "metadata": {
    "slideshow": {
     "slide_type": "slide"
    }
   },
   "source": [
    "Raw data is often too complex for humans to understand, clustering can reduce that complexity."
   ]
  },
  {
   "cell_type": "markdown",
   "metadata": {
    "slideshow": {
     "slide_type": "fragment"
    }
   },
   "source": [
    "For example, Topic Modeling is clustering similar documents together."
   ]
  },
  {
   "cell_type": "markdown",
   "metadata": {
    "slideshow": {
     "slide_type": "slide"
    }
   },
   "source": [
    "<center><h2>Clustering needs a method to measure \"similarity\"</h2></center>"
   ]
  },
  {
   "cell_type": "markdown",
   "metadata": {
    "slideshow": {
     "slide_type": "slide"
    }
   },
   "source": [
    "What are methods to measure similarity?\n",
    "------"
   ]
  },
  {
   "cell_type": "markdown",
   "metadata": {
    "slideshow": {
     "slide_type": "fragment"
    }
   },
   "source": [
    "- Continuous (e.g., L<sup>1</sup>, L<sup>2</sup>, …) \n",
    "- Discrete (e.g., Hamming, Levenshtein, Jarracd, …)\n",
    "- Distributionial (e.g., Gaussian, Mahalanobis, K-L Divergence …)"
   ]
  },
  {
   "cell_type": "markdown",
   "metadata": {
    "slideshow": {
     "slide_type": "slide"
    }
   },
   "source": [
    "<center><h2> Like evaluation metrics, you should collect distance metrics.</h2></center>"
   ]
  },
  {
   "cell_type": "markdown",
   "metadata": {
    "slideshow": {
     "slide_type": "slide"
    }
   },
   "source": [
    "k-means Algorithm\n",
    "-------\n",
    "\n",
    "The k-means algorithm involves repeatedly assigning points to clusters and then finding new clusters based on those points."
   ]
  },
  {
   "cell_type": "markdown",
   "metadata": {
    "slideshow": {
     "slide_type": "slide"
    }
   },
   "source": [
    "k-means Algorithm Steps\n",
    "-------\n",
    "1. Start:\n",
    "    1. Choose a number of clusters k\n",
    "    1. Randomly assign each point to a cluster\n",
    "1. Repeat:\n",
    "    1. For each of k clusters, compute cluster *centroid* by taking\n",
    "mean vector of points in the cluster\n",
    "    1. Assign each data point to cluster for which centroid is closest\n",
    "1. Stop when clusters stop changing"
   ]
  },
  {
   "cell_type": "markdown",
   "metadata": {
    "slideshow": {
     "slide_type": "slide"
    }
   },
   "source": [
    "<center><img src=\"images/kmeans_step.png\" width=\"60%\"/></center>"
   ]
  },
  {
   "cell_type": "markdown",
   "metadata": {
    "slideshow": {
     "slide_type": "slide"
    }
   },
   "source": [
    "What's the correct number of clusters?\n",
    "----"
   ]
  },
  {
   "cell_type": "code",
   "execution_count": 29,
   "metadata": {
    "slideshow": {
     "slide_type": "skip"
    }
   },
   "outputs": [],
   "source": [
    "reset -fs"
   ]
  },
  {
   "cell_type": "code",
   "execution_count": 30,
   "metadata": {
    "slideshow": {
     "slide_type": "skip"
    }
   },
   "outputs": [],
   "source": [
    "import matplotlib.pyplot as plt\n",
    "import numpy as np\n",
    "import pandas as pd\n",
    "import seaborn as sns\n",
    "import scipy\n",
    "import sklearn\n",
    "\n",
    "\n",
    "import warnings\n",
    "warnings.filterwarnings('ignore')\n",
    "\n",
    "palette = \"Dark2\"\n",
    "%matplotlib inline"
   ]
  },
  {
   "cell_type": "code",
   "execution_count": 31,
   "metadata": {
    "slideshow": {
     "slide_type": "skip"
    }
   },
   "outputs": [],
   "source": [
    " clusters = [(-2, -3, .75, 100),\n",
    "            (-5, -5, .75, 75),\n",
    "            (4, 3, 1.5, 200),\n",
    "            (1, -3, .5, 150),\n",
    "            (-1, 0.15, 0.75, 100)]\n",
    "k = len(clusters)\n",
    "n = sum([c[3] for c in clusters])\n",
    "\n",
    "x1 = np.array([])\n",
    "x2 = np.array([])\n",
    "\n",
    "for c in clusters:\n",
    "    x1 = np.concatenate([x1, (scipy.stats.norm(c[0], c[2]).rvs(c[3]))])\n",
    "    x2 = np.concatenate([x2, (scipy.stats.norm(c[1], c[2]).rvs(c[3]))])\n",
    "x = np.stack((x1, x2)).T"
   ]
  },
  {
   "cell_type": "code",
   "execution_count": 39,
   "metadata": {
    "slideshow": {
     "slide_type": "fragment"
    }
   },
   "outputs": [
    {
     "data": {
      "image/png": "[encoded data removed]",
      "text/plain": [
       "<Figure size 432x288 with 1 Axes>"
      ]
     },
     "metadata": {
      "needs_background": "light"
     },
     "output_type": "display_data"
    }
   ],
   "source": [
    "plt.scatter(x[:,0], x[:,1], linewidths=0, color='k')\n",
    "plt.axis('off');plt.axis('equal');"
   ]
  },
  {
   "cell_type": "code",
   "execution_count": 46,
   "metadata": {
    "slideshow": {
     "slide_type": "slide"
    }
   },
   "outputs": [],
   "source": [
    "# Let's fit k-means\n",
    "from sklearn.cluster import KMeans \n",
    "km = KMeans(n_clusters=11) # 1-6\n",
    "y = km.fit_predict(x)"
   ]
  },
  {
   "cell_type": "code",
   "execution_count": 47,
   "metadata": {
    "slideshow": {
     "slide_type": "fragment"
    }
   },
   "outputs": [
    {
     "data": {
      "image/png": "[encoded data removed]",
      "text/plain": [
       "<Figure size 432x288 with 1 Axes>"
      ]
     },
     "metadata": {
      "needs_background": "light"
     },
     "output_type": "display_data"
    }
   ],
   "source": [
    "plt.scatter(x[:,0], x[:,1], c=y, linewidths=0)\n",
    "plt.axis('off');plt.axis('equal');"
   ]
  },
  {
   "cell_type": "markdown",
   "metadata": {
    "slideshow": {
     "slide_type": "slide"
    }
   },
   "source": [
    "How do you choose the number of clusters?\n",
    "-----"
   ]
  },
  {
   "cell_type": "markdown",
   "metadata": {
    "slideshow": {
     "slide_type": "slide"
    }
   },
   "source": [
    "Methods to choose number of clusters\n",
    "-----\n",
    "\n",
    "- Within-cluster sum of squares (WCSS)\n",
    "- The Elbow Method \n",
    "- Silhouette Score\n",
    "- [Others in scikit-learn](https://scikit-learn.org/stable/modules/classes.html#clustering-metrics)"
   ]
  },
  {
   "cell_type": "markdown",
   "metadata": {
    "slideshow": {
     "slide_type": "slide"
    }
   },
   "source": [
    "Within-Cluster Sum of Squares (WCSS)\n",
    "-----\n",
    "\n",
    "Measures the goodness of a clustering\n",
    "\n",
    "$$W(C) = \\frac{1}{K} \\sum_{k=1}^{K} \\left( \\sum_{x_i, x_j \\in C_k} || x_i - x_j ||^2 \\right)$$\n",
    "\n",
    "where $K$ is the number of clusters, $C_k$ is the set of all points with label $k$, and $x_i$ is the position of point $i$. "
   ]
  },
  {
   "cell_type": "markdown",
   "metadata": {
    "slideshow": {
     "slide_type": "fragment"
    }
   },
   "source": [
    "The problem with wcss \n",
    "-------\n",
    "\n",
    "\n",
    "WCSS will always go down does as the number of clusters go up"
   ]
  },
  {
   "cell_type": "markdown",
   "metadata": {
    "slideshow": {
     "slide_type": "slide"
    }
   },
   "source": [
    "The Elbow Method\n",
    "------\n",
    "\n",
    "Plot the within-cluster sum of squares and try to see what looks like an \"elbow\"."
   ]
  },
  {
   "cell_type": "code",
   "execution_count": 48,
   "metadata": {
    "slideshow": {
     "slide_type": "slide"
    }
   },
   "outputs": [],
   "source": [
    "from sklearn.datasets import load_iris\n",
    "\n",
    "X = load_iris().data\n",
    "\n",
    "sse = {}\n",
    "for k in range(1, 10):\n",
    "    kmeans = KMeans(n_clusters=k, max_iter=1000).fit(X)\n",
    "    sse[k] = kmeans.inertia_ # Inertia: Sum of distances of samples to their closest cluster center"
   ]
  },
  {
   "cell_type": "code",
   "execution_count": 36,
   "metadata": {
    "slideshow": {
     "slide_type": "slide"
    }
   },
   "outputs": [
    {
     "data": {
      "image/png": "[encoded data removed]",
      "text/plain": [
       "<Figure size 432x288 with 1 Axes>"
      ]
     },
     "metadata": {
      "needs_background": "light"
     },
     "output_type": "display_data"
    }
   ],
   "source": [
    "plt.plot(list(sse.keys()), list(sse.values()))\n",
    "plt.xlabel(\"Number of cluster\"); plt.ylabel(\"SSE\"); plt.title('Iris dataset clusters');"
   ]
  },
  {
   "cell_type": "markdown",
   "metadata": {
    "slideshow": {
     "slide_type": "skip"
    }
   },
   "source": [
    "Source: https://stackoverflow.com/questions/19197715/scikit-learn-k-means-elbow-criterion"
   ]
  },
  {
   "cell_type": "markdown",
   "metadata": {
    "slideshow": {
     "slide_type": "slide"
    }
   },
   "source": [
    "Silhouette Score\n",
    "-----\n",
    "\n",
    "A higher Silhouette Score score is proportional to a model with better-defined clusters.\n",
    "\n",
    "$$\\text{silhouette}(x_i) = \\frac{b_i - a_i}{max(a_i, b_i)} $$\n",
    "\n",
    "For each point $x_i$:\n",
    "\n",
    "* $a_i$ is the mean distance between $x_i$ and all other points in the same cluster\n",
    "* $b_i$ is the mean distance between $x_i$ and all points in the *nearest* cluster"
   ]
  },
  {
   "cell_type": "code",
   "execution_count": 37,
   "metadata": {
    "slideshow": {
     "slide_type": "slide"
    }
   },
   "outputs": [
    {
     "name": "stdout",
     "output_type": "stream",
     "text": [
      "For # clusters = 2, the Silhouette Coefficient is 0.6810\n",
      "For # clusters = 3, the Silhouette Coefficient is 0.5528\n",
      "For # clusters = 4, the Silhouette Coefficient is 0.4981\n",
      "For # clusters = 5, the Silhouette Coefficient is 0.4887\n",
      "For # clusters = 6, the Silhouette Coefficient is 0.3665\n",
      "For # clusters = 7, the Silhouette Coefficient is 0.3476\n",
      "For # clusters = 8, the Silhouette Coefficient is 0.3520\n",
      "For # clusters = 9, the Silhouette Coefficient is 0.3248\n"
     ]
    }
   ],
   "source": [
    "from sklearn.metrics import silhouette_score\n",
    "\n",
    "X = load_iris().data\n",
    "\n",
    "for n_clusters in range(2, 10):\n",
    "    kmeans = KMeans(n_clusters=n_clusters).fit(X)\n",
    "    score = silhouette_score(X, kmeans.labels_, metric='euclidean')\n",
    "    print(f\"For # clusters = {n_clusters}, the Silhouette Coefficient is {score:.4f}\") "
   ]
  },
  {
   "cell_type": "markdown",
   "metadata": {
    "slideshow": {
     "slide_type": "fragment"
    }
   },
   "source": [
    "What is the best the Silhouette Coefficient?"
   ]
  },
  {
   "cell_type": "markdown",
   "metadata": {
    "slideshow": {
     "slide_type": "skip"
    }
   },
   "source": [
    "It is 2. \n",
    "\n",
    "We know the ground truth is 3. \n",
    "\n",
    "That is Clustering!"
   ]
  },
  {
   "cell_type": "markdown",
   "metadata": {
    "slideshow": {
     "slide_type": "slide"
    }
   },
   "source": [
    "Centroid vs Medoids\n",
    "-----\n",
    "\n",
    "Typically, k-means returns a __centroid__ (i.e., the arithmetic mean position of all the points)\n",
    "\n",
    "In many business settings, you should return the single best _actual_ observed datapoint as a cluster center, aka __medoids__"
   ]
  },
  {
   "cell_type": "markdown",
   "metadata": {
    "slideshow": {
     "slide_type": "slide"
    }
   },
   "source": [
    "What are the advantages of k-means?\n",
    "-----\n",
    "\n",
    "- Emprically useful\n",
    "- Simple, Simple, Simple"
   ]
  },
  {
   "cell_type": "markdown",
   "metadata": {
    "slideshow": {
     "slide_type": "slide"
    }
   },
   "source": [
    "What are the disadvantage of k-means?\n",
    "-----"
   ]
  },
  {
   "cell_type": "markdown",
   "metadata": {
    "slideshow": {
     "slide_type": "fragment"
    }
   },
   "source": [
    "- Need to set K in advance\n",
    "- Time intensive to fit because each training step requires a complete base through the data\n",
    "- Each data only belongs to single group\n",
    "- Converges to local minima\n",
    "- Sensitive to outliers\n",
    "- Can not model complex relationships (i.e., assumes spheroid shape to data)"
   ]
  },
  {
   "cell_type": "markdown",
   "metadata": {
    "slideshow": {
     "slide_type": "slide"
    }
   },
   "source": [
    "Clustering Types \n",
    "------\n",
    "\n",
    "1. Hard - Each point only belongs to one cluster (e.g., k-means)\n",
    "1. Soft - Each point can belong to more than one cluster (e.g., Gaussian mixture model)"
   ]
  },
  {
   "cell_type": "markdown",
   "metadata": {
    "slideshow": {
     "slide_type": "slide"
    }
   },
   "source": [
    "k-means Optimization Function\n",
    "------\n",
    "\n",
    "<center><img src=\"images/optimitization_function.png\" width=\"100%\"/></center>\n",
    "\n"
   ]
  },
  {
   "cell_type": "markdown",
   "metadata": {
    "slideshow": {
     "slide_type": "skip"
    }
   },
   "source": [
    "[Source](https://github.com/Avik-Jain/100-Days-Of-ML-Code/blob/master/Info-graphs/Day%2043.jpg)"
   ]
  },
  {
   "cell_type": "markdown",
   "metadata": {
    "slideshow": {
     "slide_type": "slide"
    }
   },
   "source": [
    "Check for understanding\n",
    "-----\n",
    "\n",
    "K-means is an iterative algorithm. It alternates between what two steps?"
   ]
  },
  {
   "cell_type": "markdown",
   "metadata": {
    "slideshow": {
     "slide_type": "fragment"
    }
   },
   "source": [
    "1. Cluster assignment step\n",
    "2. Move centroid step"
   ]
  },
  {
   "cell_type": "markdown",
   "metadata": {
    "slideshow": {
     "slide_type": "slide"
    }
   },
   "source": [
    "Check for understanding\n",
    "-----\n",
    "\n",
    "Should you standardize your data before fitting k-means?"
   ]
  },
  {
   "cell_type": "markdown",
   "metadata": {
    "slideshow": {
     "slide_type": "fragment"
    }
   },
   "source": [
    "Yes.\n",
    "\n",
    "If you do __not__ standardise your data then the variables measured in large valued units will dominate the computed dissimilarity and variables that are measured in small valued units will contribute very little."
   ]
  },
  {
   "cell_type": "markdown",
   "metadata": {
    "slideshow": {
     "slide_type": "slide"
    }
   },
   "source": [
    "Check for understanding\n",
    "-----\n",
    "\n",
    "What should you do if you have discrete features?"
   ]
  },
  {
   "cell_type": "markdown",
   "metadata": {
    "slideshow": {
     "slide_type": "fragment"
    }
   },
   "source": [
    "Do __not__ use standard k-means.\n",
    "\n",
    "Find the right distance metric or change the objective function (e.g., k-medians or even k-modes)"
   ]
  },
  {
   "cell_type": "markdown",
   "metadata": {
    "slideshow": {
     "slide_type": "slide"
    }
   },
   "source": [
    "Check for understanding\n",
    "-----\n",
    "\n",
    "What should you do if you have a combination of discrete and continuous features?"
   ]
  },
  {
   "cell_type": "markdown",
   "metadata": {
    "slideshow": {
     "slide_type": "fragment"
    }
   },
   "source": [
    "Do __not__ use standard k-means.\n",
    "\n",
    "1. Transform continuous features to be discrete or vice versa. (Not ideal)\n",
    "2. Find a distance metrics that handles both (e.g., [A generalized Mahalanobis distance for\n",
    "mixed data](https://people.ucalgary.ca/~adeleon/JMVA_mahalanobis.pdf))"
   ]
  },
  {
   "cell_type": "markdown",
   "metadata": {
    "slideshow": {
     "slide_type": "slide"
    }
   },
   "source": [
    "Summary\n",
    "------\n",
    "\n",
    "- Clustering is an unsupervised machine learning technique that tries to group similar datapoints together.\n",
    "- k-means is the most common type of clustering\n",
    "- k-means training:\n",
    "    1. Updates the centroid of existing clusters\n",
    "    2. Re-assigns datapoints to nearest centriod\n",
    "- Be aware of limitations (e.g., distance metric and scaling)"
   ]
  },
  {
   "cell_type": "markdown",
   "metadata": {
    "slideshow": {
     "slide_type": "slide"
    }
   },
   "source": [
    " "
   ]
  },
  {
   "cell_type": "markdown",
   "metadata": {
    "slideshow": {
     "slide_type": "slide"
    }
   },
   "source": [
    " "
   ]
  },
  {
   "cell_type": "markdown",
   "metadata": {
    "slideshow": {
     "slide_type": "slide"
    }
   },
   "source": [
    " "
   ]
  },
  {
   "cell_type": "markdown",
   "metadata": {
    "slideshow": {
     "slide_type": "slide"
    }
   },
   "source": [
    "Bonus Material\n",
    "-----"
   ]
  },
  {
   "cell_type": "markdown",
   "metadata": {
    "slideshow": {
     "slide_type": "slide"
    }
   },
   "source": [
    "What is the relationship between k-nn and k-means?\n",
    "-----\n",
    "\n",
    "Nothing important.\n",
    "\n",
    "They both use k as a parameter"
   ]
  },
  {
   "cell_type": "markdown",
   "metadata": {
    "slideshow": {
     "slide_type": "slide"
    }
   },
   "source": [
    "K-means\n",
    "----\n",
    "\n",
    "Mathematically, k-means partitions the observations according to the Voronoi diagram generated by the means.\n"
   ]
  },
  {
   "cell_type": "markdown",
   "metadata": {
    "slideshow": {
     "slide_type": "slide"
    }
   },
   "source": [
    "[A nice implementation of k-means](https://github.com/rhettinger/modernpython/blob/master/kmeans.py)"
   ]
  },
  {
   "cell_type": "markdown",
   "metadata": {
    "slideshow": {
     "slide_type": "slide"
    }
   },
   "source": [
    "k-means++\n",
    "-----\n",
    "\n",
    "Like many algoritms, k-means is easy to get caught in a local minimum.\n",
    "\n",
    "How would we choose a better starting points?\n",
    "\n",
    "One alternative to this is to choose centroids based on random points, which will make it likely initial centroids will be farther apart.\n",
    "\n",
    "k-means++ is an extension of this idea, the same algorithm as k-means but with a different starting point.\n",
    "\n",
    " * Choose one point for first center.\n",
    " * Repeat:\n",
    "    \n",
    "    * Calculate distance from each point to the nearest center $d_i$\n",
    "    * Choose a point to be the next center, randomly, using a weighed probability $d_i^2$\n",
    "\n",
    " ... until k centers have been choosen."
   ]
  },
  {
   "cell_type": "markdown",
   "metadata": {
    "slideshow": {
     "slide_type": "slide"
    }
   },
   "source": [
    " "
   ]
  }
 ],
 "metadata": {
  "celltoolbar": "Slideshow",
  "kernelspec": {
   "display_name": "Python 3",
   "language": "python",
   "name": "python3"
  },
  "language_info": {
   "codemirror_mode": {
    "name": "ipython",
    "version": 3
   },
   "file_extension": ".py",
   "mimetype": "text/x-python",
   "name": "python",
   "nbconvert_exporter": "python",
   "pygments_lexer": "ipython3",
   "version": "3.6.6"
  }
 },
 "nbformat": 4,
 "nbformat_minor": 2
}
